{
  "nbformat": 4,
  "nbformat_minor": 0,
  "metadata": {
    "colab": {
      "provenance": [],
      "authorship_tag": "ABX9TyM2IbI9POcjEjdtaVCl0HiA",
      "include_colab_link": true
    },
    "kernelspec": {
      "name": "python3",
      "display_name": "Python 3"
    },
    "language_info": {
      "name": "python"
    }
  },
  "cells": [
    {
      "cell_type": "markdown",
      "metadata": {
        "id": "view-in-github",
        "colab_type": "text"
      },
      "source": [
        "<a href=\"https://colab.research.google.com/github/Aksuraj/submission/blob/main/python_task_2.ipynb\" target=\"_parent\"><img src=\"https://colab.research.google.com/assets/colab-badge.svg\" alt=\"Open In Colab\"/></a>"
      ]
    },
    {
      "cell_type": "code",
      "execution_count": 2,
      "metadata": {
        "colab": {
          "base_uri": "https://localhost:8080/"
        },
        "id": "e56XtEMVvFuN",
        "outputId": "8ca3e195-f683-4278-a081-331032c7684f"
      },
      "outputs": [
        {
          "output_type": "stream",
          "name": "stdout",
          "text": [
            "{'high': 56, 'low': 196, 'medium': 89}\n"
          ]
        }
      ],
      "source": [
        "import pandas as pd\n",
        "df = pd.read_csv('dataset-1.csv')\n",
        "\n",
        "\n",
        "def get_type_count(df):\n",
        "    df['car_type'] = pd.cut(df['car'],\n",
        "                            bins=[float('-inf'), 15, 25, float('inf')],\n",
        "                            labels=['low', 'medium', 'high'],\n",
        "                            right=False)\n",
        "\n",
        "    type_count = df['car_type'].value_counts().to_dict()\n",
        "\n",
        "    type_count = dict(sorted(type_count.items()))\n",
        "\n",
        "    return type_count\n",
        "\n",
        "result = get_type_count(df)\n",
        "print(result)"
      ]
    }
  ]
}