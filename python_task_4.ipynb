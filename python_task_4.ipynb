{
  "nbformat": 4,
  "nbformat_minor": 0,
  "metadata": {
    "colab": {
      "provenance": [],
      "authorship_tag": "ABX9TyOcuDe9xVwlaJOmOozZAadD",
      "include_colab_link": true
    },
    "kernelspec": {
      "name": "python3",
      "display_name": "Python 3"
    },
    "language_info": {
      "name": "python"
    }
  },
  "cells": [
    {
      "cell_type": "markdown",
      "metadata": {
        "id": "view-in-github",
        "colab_type": "text"
      },
      "source": [
        "<a href=\"https://colab.research.google.com/github/Aksuraj/submission/blob/main/python_task_4.ipynb\" target=\"_parent\"><img src=\"https://colab.research.google.com/assets/colab-badge.svg\" alt=\"Open In Colab\"/></a>"
      ]
    },
    {
      "cell_type": "code",
      "execution_count": 1,
      "metadata": {
        "colab": {
          "base_uri": "https://localhost:8080/"
        },
        "id": "-2vBa-U9yo__",
        "outputId": "d206c92b-9bee-4e5d-a7b5-42d5afecb4f3"
      },
      "outputs": [
        {
          "output_type": "stream",
          "name": "stdout",
          "text": [
            "[1, 2, 3, 4, 5, 6, 7, 8, 9, 10]\n"
          ]
        }
      ],
      "source": [
        "import pandas as pd\n",
        "df = pd.read_csv('dataset-1.csv')\n",
        "def filter_routes(df):\n",
        "    # Filter routes based on the average of values in the 'truck' column\n",
        "    routes_filtered = df.groupby('route')['truck'].mean()\n",
        "    routes_filtered = routes_filtered[routes_filtered > 7].index.tolist()\n",
        "\n",
        "    # Sort the list of routes in ascending order\n",
        "    routes_filtered.sort()\n",
        "\n",
        "    return routes_filtered\n",
        "\n",
        "# Example usage:\n",
        "# Assuming you have already loaded the dataset into a DataFrame named 'df'\n",
        "result_routes = filter_routes(df)\n",
        "print(result_routes)"
      ]
    }
  ]
}