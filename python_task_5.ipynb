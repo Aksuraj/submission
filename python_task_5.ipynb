{
  "nbformat": 4,
  "nbformat_minor": 0,
  "metadata": {
    "colab": {
      "provenance": [],
      "authorship_tag": "ABX9TyPksyDY/ZkETsFuqyWFrRn2",
      "include_colab_link": true
    },
    "kernelspec": {
      "name": "python3",
      "display_name": "Python 3"
    },
    "language_info": {
      "name": "python"
    }
  },
  "cells": [
    {
      "cell_type": "markdown",
      "metadata": {
        "id": "view-in-github",
        "colab_type": "text"
      },
      "source": [
        "<a href=\"https://colab.research.google.com/github/Aksuraj/submission/blob/main/python_task_5.ipynb\" target=\"_parent\"><img src=\"https://colab.research.google.com/assets/colab-badge.svg\" alt=\"Open In Colab\"/></a>"
      ]
    },
    {
      "cell_type": "code",
      "source": [
        "import pandas as pd\n",
        "\n",
        "def multiply_matrix(file_path = 'dataset-1.csv'):\n",
        "    # Read the CSV file into a DataFrame\n",
        "    df = pd.read_csv('dataset-1.csv')\n",
        "\n",
        "    # Modify values based on the given logic\n",
        "    df = df.applymap(lambda x: round(x * 0.75, 1) if x > 20 else round(x * 1.25, 1))\n",
        "\n",
        "    return df\n",
        "\n",
        "# Example usage:\n",
        "file_path = 'dataset-1.csv'\n",
        "result_df = multiply_matrix(file_path)\n",
        "print(result_df)"
      ],
      "metadata": {
        "colab": {
          "base_uri": "https://localhost:8080/"
        },
        "id": "Con6XxEN0_V-",
        "outputId": "1fcf6b85-7573-4c5b-f7d2-8426f5a645b8"
      },
      "execution_count": 3,
      "outputs": [
        {
          "output_type": "stream",
          "name": "stdout",
          "text": [
            "      id_1   id_2  route  moto   car    rv   bus  truck\n",
            "0    621.8  620.2    1.2   2.6   5.2   5.2  12.6   19.0\n",
            "1    621.8  615.8    5.0   8.3  16.6  16.6  24.3   36.4\n",
            "2    621.8  603.0    8.8  18.0  21.7  21.7  48.5   72.8\n",
            "3    621.8  616.5    7.5   7.4  14.8  14.8  21.6   32.4\n",
            "4    621.8  619.5   11.2   3.6   7.3   7.3  17.8   15.9\n",
            "..     ...    ...    ...   ...   ...   ...   ...    ...\n",
            "336  602.2  601.5    3.8   2.1   4.2   4.2   8.6   12.9\n",
            "337  602.2  603.8    5.0   3.8   7.5   7.5  15.0   22.4\n",
            "338  602.2  618.8    3.8  14.5  17.5  17.5  37.6   56.4\n",
            "339  602.2  604.5   11.2   4.8   9.6   9.6  19.1   17.2\n",
            "340  602.2  622.5    1.2  20.2  24.4  24.4  54.4   81.6\n",
            "\n",
            "[341 rows x 8 columns]\n"
          ]
        }
      ]
    }
  ]
}