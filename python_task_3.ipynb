{
  "nbformat": 4,
  "nbformat_minor": 0,
  "metadata": {
    "colab": {
      "provenance": [],
      "authorship_tag": "ABX9TyOosgCFQxFegsykd52P3EW0",
      "include_colab_link": true
    },
    "kernelspec": {
      "name": "python3",
      "display_name": "Python 3"
    },
    "language_info": {
      "name": "python"
    }
  },
  "cells": [
    {
      "cell_type": "markdown",
      "metadata": {
        "id": "view-in-github",
        "colab_type": "text"
      },
      "source": [
        "<a href=\"https://colab.research.google.com/github/Aksuraj/submission/blob/main/python_task_3.ipynb\" target=\"_parent\"><img src=\"https://colab.research.google.com/assets/colab-badge.svg\" alt=\"Open In Colab\"/></a>"
      ]
    },
    {
      "cell_type": "code",
      "execution_count": 1,
      "metadata": {
        "colab": {
          "base_uri": "https://localhost:8080/"
        },
        "id": "mUR-vfEjxbZX",
        "outputId": "2e6477c5-f38f-42a7-b9b4-9df1ef7bfe26"
      },
      "outputs": [
        {
          "output_type": "stream",
          "name": "stdout",
          "text": [
            "[2, 7, 12, 17, 25, 30, 54, 64, 70, 97, 144, 145, 149, 154, 160, 201, 206, 210, 215, 234, 235, 245, 250, 309, 314, 319, 322, 323, 334, 340]\n"
          ]
        }
      ],
      "source": [
        "import pandas as pd\n",
        "df = pd.read_csv('dataset-1.csv')\n",
        "\n",
        "def get_bus_indexes(df):\n",
        "    # Calculate the mean value of the 'bus' column\n",
        "    bus_mean = df['bus'].mean()\n",
        "\n",
        "    # Identify indices where 'bus' values are greater than twice the mean\n",
        "    bus_indexes = df[df['bus'] > 2 * bus_mean].index.tolist()\n",
        "\n",
        "    # Sort the indices in ascending order\n",
        "    bus_indexes.sort()\n",
        "\n",
        "    return bus_indexes\n",
        "\n",
        "# Example usage:\n",
        "# Assuming you have already loaded the dataset into a DataFrame named 'df'\n",
        "result_indices = get_bus_indexes(df)\n",
        "print(result_indices)"
      ]
    }
  ]
}